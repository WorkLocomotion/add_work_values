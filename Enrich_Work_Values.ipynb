{
  "cells": [
    {
      "cell_type": "markdown",
      "metadata": {
        "id": "Qsyl5iwePkNP"
      },
      "source": [
        "# Add Work Values — Colab Runner\n",
        "\n",
        "This notebook enriches your *Company Job Titles – Mapped.xlsx* with O*NET Work Values (Achievement, Independence, Recognition, Relationships, Support, Working Conditions).\n",
        "\n",
        "## How to run\n",
        "1) **Run all** (Runtime → Run all). The notebook clones the repo and installs deps.  \n",
        "2) When prompted, **upload your input Excel** (`Company Job Titles - Mapped.xlsx`).  \n",
        "3) The enriched file **downloads automatically** as `Company Job Titles - Mapped.with_work_values.xlsx`.\n",
        "\n",
        "## What you need\n",
        "- **Your input Excel only.** The O*NET workbook is pre-hosted and used by default.\n",
        "\n",
        "## Configuration (already set)\n",
        "- `REPO_URL = \"https://github.com/WorkLocomotion/add_work_values.git\"`\n",
        "- `ONET_VALUES_URL = \"https://raw.githubusercontent.com/WorkLocomotion/add_work_values/main/Work%20Values.xlsx\"`\n",
        "\n",
        "> **Advanced (optional):** If you fork the repo or host your own O*NET workbook, change `REPO_URL` and/or `ONET_VALUES_URL` in the first cell.\n"
      ],
      "id": "Qsyl5iwePkNP"
    },
    {
      "cell_type": "code",
      "metadata": {
        "id": "zv97jcApPkNS"
      },
      "execution_count": null,
      "outputs": [],
      "source": [
        "# ===== Config =====\n",
        "REPO_URL = \"https://github.com/WorkLocomotion/add_work_values.git\"\n",
        "\n",
        "# File names\n",
        "INPUT_EXCEL    = \"Company Job Titles - Mapped.xlsx\"\n",
        "ONET_VALUES_URL = \"https://raw.githubusercontent.com/WorkLocomotion/add_work_values/main/Work%20Values.xlsx\"\n",
        "OUTPUT_EXCEL   = \"Company Job Titles - Mapped.with_work_values.xlsx\"\n",
        "\n",
        "print(\"REPO_URL:\", REPO_URL)\n",
        "print(\"INPUT_EXCEL:\", INPUT_EXCEL)\n",
        "print(\"ONET_VALUES_URL:\", ONET_VALUES_URL)\n",
        "print(\"OUTPUT_EXCEL:\", OUTPUT_EXCEL)"
      ],
      "id": "zv97jcApPkNS"
    },
    {
      "cell_type": "code",
      "metadata": {
        "id": "5YwW3yvfPkNS"
      },
      "execution_count": null,
      "outputs": [],
      "source": [
        "# ===== Clone the repo (optional) & set working dir =====\n",
        "import os, sys\n",
        "from pathlib import Path\n",
        "\n",
        "if REPO_URL:\n",
        "    repo_name = REPO_URL.rstrip('/').split('/')[-1].replace('.git','')\n",
        "    if not Path(repo_name).exists():\n",
        "        !git clone \"$REPO_URL\"\n",
        "    try:\n",
        "        %cd $repo_name\n",
        "    except Exception as e:\n",
        "        print(\"cd failed:\", e)\n",
        "        os.chdir(repo_name)\n",
        "        print(\"cwd ->\", os.getcwd())\n",
        "else:\n",
        "    print(\"Using current working directory:\", os.getcwd())\n",
        "\n",
        "print(\"Directory listing:\", os.listdir())"
      ],
      "id": "5YwW3yvfPkNS"
    },
    {
      "cell_type": "code",
      "metadata": {
        "id": "UgmYemPuPkNT"
      },
      "execution_count": null,
      "outputs": [],
      "source": [
        "# ===== Install dependencies =====\n",
        "import os\n",
        "if os.path.exists('requirements.txt'):\n",
        "    !pip install -r requirements.txt\n",
        "else:\n",
        "    !pip install pandas openpyxl"
      ],
      "id": "UgmYemPuPkNT"
    },
    {
      "cell_type": "code",
      "metadata": {
        "id": "oUmSoIDhPkNT"
      },
      "execution_count": null,
      "outputs": [],
      "source": [
        "# ===== Upload Company Job Titles - Mapped.xlsx =====\n",
        "try:\n",
        "    from google.colab import files as gfiles\n",
        "    print(\"If your Excel files are not present, upload them here:\")\n",
        "    uploaded = gfiles.upload()\n",
        "    print(\"Uploaded:\", list(uploaded.keys()))\n",
        "except Exception as e:\n",
        "    print(\"Not running in Colab or upload skipped:\", e)"
      ],
      "id": "oUmSoIDhPkNT"
    },
    {
      "cell_type": "code",
      "metadata": {
        "id": "ImuMFxYQPkNU"
      },
      "execution_count": null,
      "outputs": [],
      "source": [
        "# ===== Run the enrichment script =====\n",
        "import os, shlex, subprocess, sys\n",
        "\n",
        "script_candidates = [\"enrich_work_values.py\", \"./enrich_work_values.py\"]\n",
        "script = None\n",
        "for c in script_candidates:\n",
        "    if os.path.exists(c):\n",
        "        script = c\n",
        "        break\n",
        "\n",
        "if not script:\n",
        "    raise FileNotFoundError(\"enrich_work_values.py not found in current directory.\")\n",
        "\n",
        "cmd = f'python \"{script}\" --input_excel \"{INPUT_EXCEL}\" --onet_values_url \"{ONET_VALUES_URL}\" --output_excel \"{OUTPUT_EXCEL}\"'\n",
        "print(\"Running:\", cmd)\n",
        "rc = os.system(cmd)\n",
        "print(\"Return code:\", rc)"
      ],
      "id": "ImuMFxYQPkNU"
    },
    {
      "cell_type": "code",
      "metadata": {
        "id": "Z5xOjX7GPkNU"
      },
      "execution_count": null,
      "outputs": [],
      "source": [
        "# ===== Download the output (Colab) or show path =====\n",
        "from pathlib import Path\n",
        "out = Path(OUTPUT_EXCEL)\n",
        "if out.exists():\n",
        "    try:\n",
        "        from google.colab import files as gfiles\n",
        "        gfiles.download(str(out))\n",
        "    except Exception as e:\n",
        "        print(\"Output ready at:\", out.resolve())\n",
        "else:\n",
        "    print(\"Output not found. Check logs above for errors.\")"
      ],
      "id": "Z5xOjX7GPkNU"
    }
  ],
  "metadata": {
    "kernelspec": {
      "display_name": "Python 3",
      "language": "python",
      "name": "python3"
    },
    "language_info": {
      "name": "python",
      "version": "3.x"
    },
    "colab": {
      "provenance": []
    }
  },
  "nbformat": 4,
  "nbformat_minor": 5
}