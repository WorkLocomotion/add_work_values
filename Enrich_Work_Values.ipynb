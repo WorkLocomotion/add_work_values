{
  "cells": [
    {
      "cell_type": "markdown",
      "metadata": {},
      "source": "# Work Values Enrichment — Colab Runner\n\nThis notebook runs the **root-level** script `enrich_work_values.py` to merge O*NET **Work Values** into your *Company Job Titles - Mapped.xlsx* file.\n\n**Works two ways:**\n1. **Opened from your GitHub repo in Colab** → leave `REPO_URL` empty.\n2. **Run standalone** → set `REPO_URL` to your repo (it will `git clone` and run from there).\n\n**What you need**\n- `enrich_work_values.py` at the **repo root** (no `src/`).\n- Input: `Company Job Titles - Mapped.xlsx` (or a similar name).\n- O*NET workbook: `Work Values.xlsx` (or a GitHub raw URL).\n\n**Output**\n- `Company Job Titles - Mapped.with_work_values.xlsx`\n\n---"
    },
    {
      "cell_type": "code",
      "metadata": {},
      "execution_count": null,
      "outputs": [],
      "source": "# ===== Config =====\nREPO_URL = \"\"  # e.g., \"https://github.com/<your-username>/<repo>.git\" or leave empty if opened from repo\n\n# File names (edit if yours differ)\nINPUT_EXCEL = \"Company Job Titles - Mapped.xlsx\"\nONET_VALUES_URL = \"Work Values.xlsx\"  # can be a local file name or a GitHub RAW URL\nOUTPUT_EXCEL = \"Company Job Titles - Mapped.with_work_values.xlsx\"\n\n# Sanity check prints\nprint(\"REPO_URL:\", REPO_URL)\nprint(\"INPUT_EXCEL:\", INPUT_EXCEL)\nprint(\"ONET_VALUES_URL:\", ONET_VALUES_URL)\nprint(\"OUTPUT_EXCEL:\", OUTPUT_EXCEL)"
    },
    {
      "cell_type": "code",
      "metadata": {},
      "execution_count": null,
      "outputs": [],
      "source": "# ===== Clone the repo (optional) & set working dir =====\nimport os, sys\nfrom pathlib import Path\n\nif REPO_URL:\n    repo_name = REPO_URL.rstrip('/').split('/')[-1].replace('.git','')\n    if not Path(repo_name).exists():\n        !git clone \"$REPO_URL\"\n    try:\n        %cd $repo_name\n    except Exception as e:\n        print(\"cd failed:\", e)\n        os.chdir(repo_name)\n        print(\"cwd ->\", os.getcwd())\nelse:\n    print(\"Using current working directory:\", os.getcwd())\n\nprint(\"Directory listing:\", os.listdir())"
    },
    {
      "cell_type": "code",
      "metadata": {},
      "execution_count": null,
      "outputs": [],
      "source": "# ===== Install dependencies =====\nimport os\nif os.path.exists('requirements.txt'):\n    !pip install -r requirements.txt\nelse:\n    !pip install pandas openpyxl"
    },
    {
      "cell_type": "code",
      "metadata": {},
      "execution_count": null,
      "outputs": [],
      "source": "# ===== OPTIONAL: Preview your input columns (helps confirm SOC column) =====\ntry:\n    import pandas as pd\n    if os.path.exists(INPUT_EXCEL):\n        df = pd.read_excel(INPUT_EXCEL)\n        print(\"Found:\", INPUT_EXCEL)\n        print(\"Columns:\", list(df.columns))\n        display(df.head(5))\n    else:\n        print(f\"{INPUT_EXCEL!r} not found in\", os.getcwd())\nexcept Exception as e:\n    print(\"Preview skipped or failed:\", e)"
    },
    {
      "cell_type": "code",
      "metadata": {},
      "execution_count": null,
      "outputs": [],
      "source": "# ===== OPTIONAL: Upload files (Colab only) =====\ntry:\n    from google.colab import files as gfiles\n    print(\"If your Excel files are not present, upload them here:\")\n    uploaded = gfiles.upload()\n    print(\"Uploaded:\", list(uploaded.keys()))\nexcept Exception as e:\n    print(\"Not running in Colab or upload skipped:\", e)"
    },
    {
      "cell_type": "code",
      "metadata": {},
      "execution_count": null,
      "outputs": [],
      "source": "# ===== Run the enrichment script =====\nimport os, shlex, subprocess, sys\n\nscript_candidates = [\"enrich_work_values.py\", \"./enrich_work_values.py\"]\nscript = None\nfor c in script_candidates:\n    if os.path.exists(c):\n        script = c\n        break\n\nif not script:\n    raise FileNotFoundError(\"enrich_work_values.py not found in current directory.\")\n\ncmd = f'python \"{script}\" --input_excel \"{INPUT_EXCEL}\" --onet_values_url \"{ONET_VALUES_URL}\" --output_excel \"{OUTPUT_EXCEL}\"'\nprint(\"Running:\", cmd)\nrc = os.system(cmd)\nprint(\"Return code:\", rc)"
    },
    {
      "cell_type": "code",
      "metadata": {},
      "execution_count": null,
      "outputs": [],
      "source": "# ===== Download the output (Colab) or show path =====\nfrom pathlib import Path\nout = Path(OUTPUT_EXCEL)\nif out.exists():\n    try:\n        from google.colab import files as gfiles\n        gfiles.download(str(out))\n    except Exception as e:\n        print(\"Output ready at:\", out.resolve())\nelse:\n    print(\"Output not found. Check logs above for errors.\")"
    }
  ],
  "metadata": {
    "kernelspec": {
      "display_name": "Python 3",
      "language": "python",
      "name": "python3"
    },
    "language_info": {
      "name": "python",
      "version": "3.x"
    }
  },
  "nbformat": 4,
  "nbformat_minor": 5
}