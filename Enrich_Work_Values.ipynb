{
  "cells": [
    {
      "cell_type": "markdown",
      "metadata": {
        "id": "Qsyl5iwePkNP"
      },
      "source": [
        "# Work Values Enrichment — Colab Runner\n",
        "\n",
        "This notebook runs the **root-level** script `enrich_work_values.py` to merge O*NET **Work Values** into your *Company Job Titles - Mapped.xlsx* file.\n",
        "\n",
        "**Works two ways:**\n",
        "1. **Opened from your GitHub repo in Colab** → leave `REPO_URL` empty.\n",
        "2. **Run standalone** → set `REPO_URL` to your repo (it will `git clone` and run from there).\n",
        "\n",
        "**What you need**\n",
        "- `enrich_work_values.py` at the **repo root** (no `src/`).\n",
        "- Input: `Company Job Titles - Mapped.xlsx` (or a similar name).\n",
        "- O*NET workbook: `Work Values.xlsx` (or a GitHub raw URL).\n",
        "\n",
        "**Output**\n",
        "- `Company Job Titles - Mapped.with_work_values.xlsx`\n",
        "\n",
        "---"
      ],
      "id": "Qsyl5iwePkNP"
    },
    {
      "cell_type": "code",
      "source": [
        "import pandas as pd\n",
        "df = pd.read_excel(\"Company Job Titles - Mapped.with_work_values.xlsx\")\n",
        "print(\"Columns:\", list(df.columns))"
      ],
      "metadata": {
        "id": "pcNSg2a1aHlK"
      },
      "id": "pcNSg2a1aHlK",
      "execution_count": null,
      "outputs": []
    },
    {
      "cell_type": "code",
      "metadata": {
        "id": "zv97jcApPkNS"
      },
      "execution_count": null,
      "outputs": [],
      "source": [
        "# ===== Config =====\n",
        "REPO_URL = \"https://github.com/WorkLocomotion/add_work_values.git\"\n",
        "\n",
        "# File names (edit if yours differ)\n",
        "INPUT_EXCEL = \"Company Job Titles - Mapped.xlsx\"\n",
        "ONET_VALUES_URL = \"Work Values.xlsx\"  # can be a local file name or a GitHub RAW URL\n",
        "OUTPUT_EXCEL = \"Company Job Titles - Mapped.with_work_values.xlsx\"\n",
        "\n",
        "# Sanity check prints\n",
        "print(\"REPO_URL:\", REPO_URL)\n",
        "print(\"INPUT_EXCEL:\", INPUT_EXCEL)\n",
        "print(\"ONET_VALUES_URL:\", ONET_VALUES_URL)\n",
        "print(\"OUTPUT_EXCEL:\", OUTPUT_EXCEL)"
      ],
      "id": "zv97jcApPkNS"
    },
    {
      "cell_type": "code",
      "metadata": {
        "id": "5YwW3yvfPkNS"
      },
      "execution_count": null,
      "outputs": [],
      "source": [
        "# ===== Clone the repo (optional) & set working dir =====\n",
        "import os, sys\n",
        "from pathlib import Path\n",
        "\n",
        "if REPO_URL:\n",
        "    repo_name = REPO_URL.rstrip('/').split('/')[-1].replace('.git','')\n",
        "    if not Path(repo_name).exists():\n",
        "        !git clone \"$REPO_URL\"\n",
        "    try:\n",
        "        %cd $repo_name\n",
        "    except Exception as e:\n",
        "        print(\"cd failed:\", e)\n",
        "        os.chdir(repo_name)\n",
        "        print(\"cwd ->\", os.getcwd())\n",
        "else:\n",
        "    print(\"Using current working directory:\", os.getcwd())\n",
        "\n",
        "print(\"Directory listing:\", os.listdir())"
      ],
      "id": "5YwW3yvfPkNS"
    },
    {
      "cell_type": "code",
      "metadata": {
        "id": "UgmYemPuPkNT"
      },
      "execution_count": null,
      "outputs": [],
      "source": [
        "# ===== Install dependencies =====\n",
        "import os\n",
        "if os.path.exists('requirements.txt'):\n",
        "    !pip install -r requirements.txt\n",
        "else:\n",
        "    !pip install pandas openpyxl"
      ],
      "id": "UgmYemPuPkNT"
    },
    {
      "cell_type": "code",
      "metadata": {
        "id": "oUmSoIDhPkNT"
      },
      "execution_count": null,
      "outputs": [],
      "source": [
        "# ===== Upload Company Job Titles - Mapped.xlsx =====\n",
        "try:\n",
        "    from google.colab import files as gfiles\n",
        "    print(\"If your Excel files are not present, upload them here:\")\n",
        "    uploaded = gfiles.upload()\n",
        "    print(\"Uploaded:\", list(uploaded.keys()))\n",
        "except Exception as e:\n",
        "    print(\"Not running in Colab or upload skipped:\", e)"
      ],
      "id": "oUmSoIDhPkNT"
    },
    {
      "cell_type": "code",
      "metadata": {
        "id": "ImuMFxYQPkNU"
      },
      "execution_count": null,
      "outputs": [],
      "source": [
        "# ===== Run the enrichment script =====\n",
        "import os, shlex, subprocess, sys\n",
        "\n",
        "script_candidates = [\"enrich_work_values.py\", \"./enrich_work_values.py\"]\n",
        "script = None\n",
        "for c in script_candidates:\n",
        "    if os.path.exists(c):\n",
        "        script = c\n",
        "        break\n",
        "\n",
        "if not script:\n",
        "    raise FileNotFoundError(\"enrich_work_values.py not found in current directory.\")\n",
        "\n",
        "cmd = f'python \"{script}\" --input_excel \"{INPUT_EXCEL}\" --onet_values_url \"{ONET_VALUES_URL}\" --output_excel \"{OUTPUT_EXCEL}\"'\n",
        "print(\"Running:\", cmd)\n",
        "rc = os.system(cmd)\n",
        "print(\"Return code:\", rc)"
      ],
      "id": "ImuMFxYQPkNU"
    },
    {
      "cell_type": "code",
      "metadata": {
        "id": "Z5xOjX7GPkNU"
      },
      "execution_count": null,
      "outputs": [],
      "source": [
        "# ===== Download the output (Colab) or show path =====\n",
        "from pathlib import Path\n",
        "out = Path(OUTPUT_EXCEL)\n",
        "if out.exists():\n",
        "    try:\n",
        "        from google.colab import files as gfiles\n",
        "        gfiles.download(str(out))\n",
        "    except Exception as e:\n",
        "        print(\"Output ready at:\", out.resolve())\n",
        "else:\n",
        "    print(\"Output not found. Check logs above for errors.\")"
      ],
      "id": "Z5xOjX7GPkNU"
    }
  ],
  "metadata": {
    "kernelspec": {
      "display_name": "Python 3",
      "language": "python",
      "name": "python3"
    },
    "language_info": {
      "name": "python",
      "version": "3.x"
    },
    "colab": {
      "provenance": []
    }
  },
  "nbformat": 4,
  "nbformat_minor": 5
}